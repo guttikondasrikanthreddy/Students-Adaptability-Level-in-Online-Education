{
 "cells": [
  {
   "cell_type": "markdown",
   "id": "6a0ea321",
   "metadata": {
    "papermill": {
     "duration": 0.007591,
     "end_time": "2024-11-05T22:40:43.692301",
     "exception": false,
     "start_time": "2024-11-05T22:40:43.684710",
     "status": "completed"
    },
    "tags": []
   },
   "source": [
    "# Data Loading and Exploration:\n",
    "\n",
    "Loaded the dataset into a pandas DataFrame.\n",
    "Displayed the dataset."
   ]
  },
  {
   "cell_type": "code",
   "execution_count": 1,
   "id": "de12abe8",
   "metadata": {
    "execution": {
     "iopub.execute_input": "2024-11-05T22:40:43.707753Z",
     "iopub.status.busy": "2024-11-05T22:40:43.707331Z",
     "iopub.status.idle": "2024-11-05T22:40:46.294751Z",
     "shell.execute_reply": "2024-11-05T22:40:46.293670Z"
    },
    "papermill": {
     "duration": 2.597999,
     "end_time": "2024-11-05T22:40:46.297300",
     "exception": false,
     "start_time": "2024-11-05T22:40:43.699301",
     "status": "completed"
    },
    "tags": []
   },
   "outputs": [],
   "source": [
    "import pandas as pd\n",
    "import matplotlib.pyplot as plt\n",
    "import numpy as np\n",
    "import seaborn as sns\n",
    "import warnings\n",
    "warnings.filterwarnings(\"ignore\")"
   ]
  },
  {
   "cell_type": "code",
   "execution_count": 2,
   "id": "3fd0ee24",
   "metadata": {
    "execution": {
     "iopub.execute_input": "2024-11-05T22:40:46.313427Z",
     "iopub.status.busy": "2024-11-05T22:40:46.312898Z",
     "iopub.status.idle": "2024-11-05T22:40:46.340606Z",
     "shell.execute_reply": "2024-11-05T22:40:46.339489Z"
    },
    "papermill": {
     "duration": 0.03859,
     "end_time": "2024-11-05T22:40:46.343211",
     "exception": false,
     "start_time": "2024-11-05T22:40:46.304621",
     "status": "completed"
    },
    "tags": []
   },
   "outputs": [],
   "source": [
    "data = pd.read_csv ('/kaggle/input/students-adaptability-level-in-online-education/students_adaptability_level_online_education.csv')"
   ]
  },
  {
   "cell_type": "code",
   "execution_count": 3,
   "id": "07e8cdf2",
   "metadata": {
    "execution": {
     "iopub.execute_input": "2024-11-05T22:40:46.359235Z",
     "iopub.status.busy": "2024-11-05T22:40:46.358472Z",
     "iopub.status.idle": "2024-11-05T22:40:46.389487Z",
     "shell.execute_reply": "2024-11-05T22:40:46.388381Z"
    },
    "papermill": {
     "duration": 0.041746,
     "end_time": "2024-11-05T22:40:46.391954",
     "exception": false,
     "start_time": "2024-11-05T22:40:46.350208",
     "status": "completed"
    },
    "tags": []
   },
   "outputs": [
    {
     "data": {
      "text/html": [
       "<div>\n",
       "<style scoped>\n",
       "    .dataframe tbody tr th:only-of-type {\n",
       "        vertical-align: middle;\n",
       "    }\n",
       "\n",
       "    .dataframe tbody tr th {\n",
       "        vertical-align: top;\n",
       "    }\n",
       "\n",
       "    .dataframe thead th {\n",
       "        text-align: right;\n",
       "    }\n",
       "</style>\n",
       "<table border=\"1\" class=\"dataframe\">\n",
       "  <thead>\n",
       "    <tr style=\"text-align: right;\">\n",
       "      <th></th>\n",
       "      <th>Gender</th>\n",
       "      <th>Age</th>\n",
       "      <th>Education Level</th>\n",
       "      <th>Institution Type</th>\n",
       "      <th>IT Student</th>\n",
       "      <th>Location</th>\n",
       "      <th>Load-shedding</th>\n",
       "      <th>Financial Condition</th>\n",
       "      <th>Internet Type</th>\n",
       "      <th>Network Type</th>\n",
       "      <th>Class Duration</th>\n",
       "      <th>Self Lms</th>\n",
       "      <th>Device</th>\n",
       "      <th>Adaptivity Level</th>\n",
       "    </tr>\n",
       "  </thead>\n",
       "  <tbody>\n",
       "    <tr>\n",
       "      <th>0</th>\n",
       "      <td>Boy</td>\n",
       "      <td>21-25</td>\n",
       "      <td>University</td>\n",
       "      <td>Non Government</td>\n",
       "      <td>No</td>\n",
       "      <td>Yes</td>\n",
       "      <td>Low</td>\n",
       "      <td>Mid</td>\n",
       "      <td>Wifi</td>\n",
       "      <td>4G</td>\n",
       "      <td>3-6</td>\n",
       "      <td>No</td>\n",
       "      <td>Tab</td>\n",
       "      <td>Moderate</td>\n",
       "    </tr>\n",
       "    <tr>\n",
       "      <th>1</th>\n",
       "      <td>Girl</td>\n",
       "      <td>21-25</td>\n",
       "      <td>University</td>\n",
       "      <td>Non Government</td>\n",
       "      <td>No</td>\n",
       "      <td>Yes</td>\n",
       "      <td>High</td>\n",
       "      <td>Mid</td>\n",
       "      <td>Mobile Data</td>\n",
       "      <td>4G</td>\n",
       "      <td>1-3</td>\n",
       "      <td>Yes</td>\n",
       "      <td>Mobile</td>\n",
       "      <td>Moderate</td>\n",
       "    </tr>\n",
       "    <tr>\n",
       "      <th>2</th>\n",
       "      <td>Girl</td>\n",
       "      <td>16-20</td>\n",
       "      <td>College</td>\n",
       "      <td>Government</td>\n",
       "      <td>No</td>\n",
       "      <td>Yes</td>\n",
       "      <td>Low</td>\n",
       "      <td>Mid</td>\n",
       "      <td>Wifi</td>\n",
       "      <td>4G</td>\n",
       "      <td>1-3</td>\n",
       "      <td>No</td>\n",
       "      <td>Mobile</td>\n",
       "      <td>Moderate</td>\n",
       "    </tr>\n",
       "    <tr>\n",
       "      <th>3</th>\n",
       "      <td>Girl</td>\n",
       "      <td>11-15</td>\n",
       "      <td>School</td>\n",
       "      <td>Non Government</td>\n",
       "      <td>No</td>\n",
       "      <td>Yes</td>\n",
       "      <td>Low</td>\n",
       "      <td>Mid</td>\n",
       "      <td>Mobile Data</td>\n",
       "      <td>4G</td>\n",
       "      <td>1-3</td>\n",
       "      <td>No</td>\n",
       "      <td>Mobile</td>\n",
       "      <td>Moderate</td>\n",
       "    </tr>\n",
       "    <tr>\n",
       "      <th>4</th>\n",
       "      <td>Girl</td>\n",
       "      <td>16-20</td>\n",
       "      <td>School</td>\n",
       "      <td>Non Government</td>\n",
       "      <td>No</td>\n",
       "      <td>Yes</td>\n",
       "      <td>Low</td>\n",
       "      <td>Poor</td>\n",
       "      <td>Mobile Data</td>\n",
       "      <td>3G</td>\n",
       "      <td>0</td>\n",
       "      <td>No</td>\n",
       "      <td>Mobile</td>\n",
       "      <td>Low</td>\n",
       "    </tr>\n",
       "    <tr>\n",
       "      <th>...</th>\n",
       "      <td>...</td>\n",
       "      <td>...</td>\n",
       "      <td>...</td>\n",
       "      <td>...</td>\n",
       "      <td>...</td>\n",
       "      <td>...</td>\n",
       "      <td>...</td>\n",
       "      <td>...</td>\n",
       "      <td>...</td>\n",
       "      <td>...</td>\n",
       "      <td>...</td>\n",
       "      <td>...</td>\n",
       "      <td>...</td>\n",
       "      <td>...</td>\n",
       "    </tr>\n",
       "    <tr>\n",
       "      <th>1200</th>\n",
       "      <td>Girl</td>\n",
       "      <td>16-20</td>\n",
       "      <td>College</td>\n",
       "      <td>Non Government</td>\n",
       "      <td>No</td>\n",
       "      <td>Yes</td>\n",
       "      <td>Low</td>\n",
       "      <td>Mid</td>\n",
       "      <td>Wifi</td>\n",
       "      <td>4G</td>\n",
       "      <td>1-3</td>\n",
       "      <td>No</td>\n",
       "      <td>Mobile</td>\n",
       "      <td>Low</td>\n",
       "    </tr>\n",
       "    <tr>\n",
       "      <th>1201</th>\n",
       "      <td>Girl</td>\n",
       "      <td>16-20</td>\n",
       "      <td>College</td>\n",
       "      <td>Non Government</td>\n",
       "      <td>No</td>\n",
       "      <td>No</td>\n",
       "      <td>High</td>\n",
       "      <td>Mid</td>\n",
       "      <td>Wifi</td>\n",
       "      <td>4G</td>\n",
       "      <td>3-6</td>\n",
       "      <td>No</td>\n",
       "      <td>Mobile</td>\n",
       "      <td>Moderate</td>\n",
       "    </tr>\n",
       "    <tr>\n",
       "      <th>1202</th>\n",
       "      <td>Boy</td>\n",
       "      <td>11-15</td>\n",
       "      <td>School</td>\n",
       "      <td>Non Government</td>\n",
       "      <td>No</td>\n",
       "      <td>Yes</td>\n",
       "      <td>Low</td>\n",
       "      <td>Mid</td>\n",
       "      <td>Mobile Data</td>\n",
       "      <td>3G</td>\n",
       "      <td>1-3</td>\n",
       "      <td>No</td>\n",
       "      <td>Mobile</td>\n",
       "      <td>Moderate</td>\n",
       "    </tr>\n",
       "    <tr>\n",
       "      <th>1203</th>\n",
       "      <td>Girl</td>\n",
       "      <td>16-20</td>\n",
       "      <td>College</td>\n",
       "      <td>Non Government</td>\n",
       "      <td>No</td>\n",
       "      <td>No</td>\n",
       "      <td>Low</td>\n",
       "      <td>Mid</td>\n",
       "      <td>Wifi</td>\n",
       "      <td>4G</td>\n",
       "      <td>1-3</td>\n",
       "      <td>No</td>\n",
       "      <td>Mobile</td>\n",
       "      <td>Low</td>\n",
       "    </tr>\n",
       "    <tr>\n",
       "      <th>1204</th>\n",
       "      <td>Girl</td>\n",
       "      <td>11-15</td>\n",
       "      <td>School</td>\n",
       "      <td>Non Government</td>\n",
       "      <td>No</td>\n",
       "      <td>Yes</td>\n",
       "      <td>Low</td>\n",
       "      <td>Poor</td>\n",
       "      <td>Mobile Data</td>\n",
       "      <td>3G</td>\n",
       "      <td>1-3</td>\n",
       "      <td>No</td>\n",
       "      <td>Mobile</td>\n",
       "      <td>Moderate</td>\n",
       "    </tr>\n",
       "  </tbody>\n",
       "</table>\n",
       "<p>1205 rows × 14 columns</p>\n",
       "</div>"
      ],
      "text/plain": [
       "     Gender    Age Education Level Institution Type IT Student Location  \\\n",
       "0       Boy  21-25      University   Non Government         No      Yes   \n",
       "1      Girl  21-25      University   Non Government         No      Yes   \n",
       "2      Girl  16-20         College       Government         No      Yes   \n",
       "3      Girl  11-15          School   Non Government         No      Yes   \n",
       "4      Girl  16-20          School   Non Government         No      Yes   \n",
       "...     ...    ...             ...              ...        ...      ...   \n",
       "1200   Girl  16-20         College   Non Government         No      Yes   \n",
       "1201   Girl  16-20         College   Non Government         No       No   \n",
       "1202    Boy  11-15          School   Non Government         No      Yes   \n",
       "1203   Girl  16-20         College   Non Government         No       No   \n",
       "1204   Girl  11-15          School   Non Government         No      Yes   \n",
       "\n",
       "     Load-shedding Financial Condition Internet Type Network Type  \\\n",
       "0              Low                 Mid          Wifi           4G   \n",
       "1             High                 Mid   Mobile Data           4G   \n",
       "2              Low                 Mid          Wifi           4G   \n",
       "3              Low                 Mid   Mobile Data           4G   \n",
       "4              Low                Poor   Mobile Data           3G   \n",
       "...            ...                 ...           ...          ...   \n",
       "1200           Low                 Mid          Wifi           4G   \n",
       "1201          High                 Mid          Wifi           4G   \n",
       "1202           Low                 Mid   Mobile Data           3G   \n",
       "1203           Low                 Mid          Wifi           4G   \n",
       "1204           Low                Poor   Mobile Data           3G   \n",
       "\n",
       "     Class Duration Self Lms  Device Adaptivity Level  \n",
       "0               3-6       No     Tab         Moderate  \n",
       "1               1-3      Yes  Mobile         Moderate  \n",
       "2               1-3       No  Mobile         Moderate  \n",
       "3               1-3       No  Mobile         Moderate  \n",
       "4                 0       No  Mobile              Low  \n",
       "...             ...      ...     ...              ...  \n",
       "1200            1-3       No  Mobile              Low  \n",
       "1201            3-6       No  Mobile         Moderate  \n",
       "1202            1-3       No  Mobile         Moderate  \n",
       "1203            1-3       No  Mobile              Low  \n",
       "1204            1-3       No  Mobile         Moderate  \n",
       "\n",
       "[1205 rows x 14 columns]"
      ]
     },
     "execution_count": 3,
     "metadata": {},
     "output_type": "execute_result"
    }
   ],
   "source": [
    "data"
   ]
  },
  {
   "cell_type": "markdown",
   "id": "0c9d0554",
   "metadata": {
    "papermill": {
     "duration": 0.006909,
     "end_time": "2024-11-05T22:40:46.406309",
     "exception": false,
     "start_time": "2024-11-05T22:40:46.399400",
     "status": "completed"
    },
    "tags": []
   },
   "source": [
    "# Label Encoding:\n",
    "\n",
    "Demonstrated how to use LabelEncoder to convert categorical data into numeric labels."
   ]
  },
  {
   "cell_type": "code",
   "execution_count": 4,
   "id": "11f4d924",
   "metadata": {
    "execution": {
     "iopub.execute_input": "2024-11-05T22:40:46.422513Z",
     "iopub.status.busy": "2024-11-05T22:40:46.422103Z",
     "iopub.status.idle": "2024-11-05T22:40:46.585597Z",
     "shell.execute_reply": "2024-11-05T22:40:46.584533Z"
    },
    "papermill": {
     "duration": 0.174429,
     "end_time": "2024-11-05T22:40:46.587928",
     "exception": false,
     "start_time": "2024-11-05T22:40:46.413499",
     "status": "completed"
    },
    "tags": []
   },
   "outputs": [
    {
     "name": "stdout",
     "output_type": "stream",
     "text": [
      "Original Categories: ['red', 'blue', 'green', 'red', 'green']\n",
      "Encoded Labels: [2 0 1 2 1]\n",
      "Mapping: {'blue': 0, 'green': 1, 'red': 2}\n"
     ]
    }
   ],
   "source": [
    "from sklearn.preprocessing import LabelEncoder\n",
    "\n",
    "# Sample categorical data\n",
    "categories = ['red', 'blue', 'green', 'red', 'green']\n",
    "\n",
    "# Initialize the label encoder\n",
    "label_encoder = LabelEncoder()\n",
    "\n",
    "# Fit and transform the categorical data\n",
    "encoded_labels = label_encoder.fit_transform(categories)\n",
    "\n",
    "# Print the original and encoded data\n",
    "print(\"Original Categories:\", categories)\n",
    "print(\"Encoded Labels:\", encoded_labels)\n",
    "# Print the mapping between original categories and encoded labels\n",
    "print(\"Mapping:\", dict(zip(label_encoder.classes_, range(len(label_encoder.classes_)))))"
   ]
  },
  {
   "cell_type": "markdown",
   "id": "8e8ff80f",
   "metadata": {
    "papermill": {
     "duration": 0.007268,
     "end_time": "2024-11-05T22:40:46.602806",
     "exception": false,
     "start_time": "2024-11-05T22:40:46.595538",
     "status": "completed"
    },
    "tags": []
   },
   "source": [
    "# Data Preparation:\n",
    "# \n",
    "Created a DataFrame and performed label encoding on all categorical columns.\n",
    "Split the data into features (X) and labels (y)."
   ]
  },
  {
   "cell_type": "code",
   "execution_count": 5,
   "id": "aa60ade6",
   "metadata": {
    "execution": {
     "iopub.execute_input": "2024-11-05T22:40:46.619169Z",
     "iopub.status.busy": "2024-11-05T22:40:46.618751Z",
     "iopub.status.idle": "2024-11-05T22:40:46.641337Z",
     "shell.execute_reply": "2024-11-05T22:40:46.640036Z"
    },
    "papermill": {
     "duration": 0.033481,
     "end_time": "2024-11-05T22:40:46.643550",
     "exception": false,
     "start_time": "2024-11-05T22:40:46.610069",
     "status": "completed"
    },
    "tags": []
   },
   "outputs": [
    {
     "name": "stdout",
     "output_type": "stream",
     "text": [
      "   Gender    Age Education Level Institution Type IT Student Location  \\\n",
      "0    Male  18-24     High School           Public        Yes    Urban   \n",
      "1  Female  25-34        Bachelor          Private         No    Rural   \n",
      "2    Male  18-24     High School           Public        Yes    Urban   \n",
      "3  Female  35-44          Master          Private         No    Urban   \n",
      "4    Male  25-34        Bachelor           Public        Yes    Rural   \n",
      "\n",
      "  Load-shedding Financial Condition Internet Type Network Type  \\\n",
      "0           Low                Good     Broadband        Wired   \n",
      "1          High                Poor   Mobile Data     Wireless   \n",
      "2        Medium                Good         Wi-Fi        Wired   \n",
      "3           Low           Excellent     Broadband     Wireless   \n",
      "4          High                Fair   Mobile Data        Wired   \n",
      "\n",
      "   Gender_encoded  Age_encoded  Education Level_encoded  \\\n",
      "0               1            0                        1   \n",
      "1               0            1                        0   \n",
      "2               1            0                        1   \n",
      "3               0            2                        2   \n",
      "4               1            1                        0   \n",
      "\n",
      "   Institution Type_encoded  IT Student_encoded  Location_encoded  \\\n",
      "0                         1                   1                 1   \n",
      "1                         0                   0                 0   \n",
      "2                         1                   1                 1   \n",
      "3                         0                   0                 1   \n",
      "4                         1                   1                 0   \n",
      "\n",
      "   Load-shedding_encoded  Financial Condition_encoded  Internet Type_encoded  \\\n",
      "0                      1                            2                      0   \n",
      "1                      0                            3                      1   \n",
      "2                      2                            2                      2   \n",
      "3                      1                            0                      0   \n",
      "4                      0                            1                      1   \n",
      "\n",
      "   Network Type_encoded  \n",
      "0                     0  \n",
      "1                     1  \n",
      "2                     0  \n",
      "3                     1  \n",
      "4                     0  \n"
     ]
    }
   ],
   "source": [
    "import pandas as pd\n",
    "from sklearn.preprocessing import LabelEncoder\n",
    "\n",
    "# Sample DataFrame\n",
    "data = {\n",
    "    'Gender': ['Male', 'Female', 'Male', 'Female', 'Male'],\n",
    "    'Age': ['18-24', '25-34', '18-24', '35-44', '25-34'],\n",
    "    'Education Level': ['High School', 'Bachelor', 'High School', 'Master', 'Bachelor'],\n",
    "    'Institution Type': ['Public', 'Private', 'Public', 'Private', 'Public'],\n",
    "    'IT Student': ['Yes', 'No', 'Yes', 'No', 'Yes'],\n",
    "    'Location': ['Urban', 'Rural', 'Urban', 'Urban', 'Rural'],\n",
    "    'Load-shedding': ['Low', 'High', 'Medium', 'Low', 'High'],\n",
    "    'Financial Condition': ['Good', 'Poor', 'Good', 'Excellent', 'Fair'],\n",
    "    'Internet Type': ['Broadband', 'Mobile Data', 'Wi-Fi', 'Broadband', 'Mobile Data'],\n",
    "    'Network Type': ['Wired', 'Wireless', 'Wired', 'Wireless', 'Wired']\n",
    "}\n",
    "\n",
    "df = pd.DataFrame(data)\n",
    "\n",
    "# Initialize the label encoder\n",
    "label_encoder = LabelEncoder()\n",
    "\n",
    "# Apply label encoding to each categorical column\n",
    "for column in df.select_dtypes(include=['object']).columns:\n",
    "    df[column + '_encoded'] = label_encoder.fit_transform(df[column])\n",
    "\n",
    "# Display the encoded DataFrame\n",
    "print(df)"
   ]
  },
  {
   "cell_type": "code",
   "execution_count": 6,
   "id": "b8416c97",
   "metadata": {
    "execution": {
     "iopub.execute_input": "2024-11-05T22:40:46.660641Z",
     "iopub.status.busy": "2024-11-05T22:40:46.660205Z",
     "iopub.status.idle": "2024-11-05T22:40:46.771835Z",
     "shell.execute_reply": "2024-11-05T22:40:46.770646Z"
    },
    "papermill": {
     "duration": 0.12308,
     "end_time": "2024-11-05T22:40:46.774292",
     "exception": false,
     "start_time": "2024-11-05T22:40:46.651212",
     "status": "completed"
    },
    "tags": []
   },
   "outputs": [],
   "source": [
    "from sklearn.model_selection import train_test_split"
   ]
  },
  {
   "cell_type": "code",
   "execution_count": 7,
   "id": "d7816074",
   "metadata": {
    "execution": {
     "iopub.execute_input": "2024-11-05T22:40:46.791102Z",
     "iopub.status.busy": "2024-11-05T22:40:46.790717Z",
     "iopub.status.idle": "2024-11-05T22:40:46.807607Z",
     "shell.execute_reply": "2024-11-05T22:40:46.806482Z"
    },
    "papermill": {
     "duration": 0.027899,
     "end_time": "2024-11-05T22:40:46.809677",
     "exception": false,
     "start_time": "2024-11-05T22:40:46.781778",
     "status": "completed"
    },
    "tags": []
   },
   "outputs": [
    {
     "name": "stdout",
     "output_type": "stream",
     "text": [
      "Features:\n",
      "   Gender    Age Education Level Institution Type IT Student Location  \\\n",
      "0    Male  18-24     High School           Public        Yes    Urban   \n",
      "1  Female  25-34        Bachelor          Private         No    Rural   \n",
      "2    Male  18-24     High School           Public        Yes    Urban   \n",
      "3  Female  35-44          Master          Private         No    Urban   \n",
      "4    Male  25-34        Bachelor           Public        Yes    Rural   \n",
      "\n",
      "  Load-shedding Financial Condition Internet Type Network Type  \\\n",
      "0           Low                Good     Broadband        Wired   \n",
      "1          High                Poor   Mobile Data     Wireless   \n",
      "2        Medium                Good         Wi-Fi        Wired   \n",
      "3           Low           Excellent     Broadband     Wireless   \n",
      "4          High                Fair   Mobile Data        Wired   \n",
      "\n",
      "   Gender_encoded  Age_encoded  Education Level_encoded  \\\n",
      "0               1            0                        1   \n",
      "1               0            1                        0   \n",
      "2               1            0                        1   \n",
      "3               0            2                        2   \n",
      "4               1            1                        0   \n",
      "\n",
      "   Institution Type_encoded  IT Student_encoded  Location_encoded  \\\n",
      "0                         1                   1                 1   \n",
      "1                         0                   0                 0   \n",
      "2                         1                   1                 1   \n",
      "3                         0                   0                 1   \n",
      "4                         1                   1                 0   \n",
      "\n",
      "   Financial Condition_encoded  Internet Type_encoded  Network Type_encoded  \n",
      "0                            2                      0                     0  \n",
      "1                            3                      1                     1  \n",
      "2                            2                      2                     0  \n",
      "3                            0                      0                     1  \n",
      "4                            1                      1                     0  \n",
      "\n",
      "Labels:\n",
      "0    1\n",
      "1    0\n",
      "2    2\n",
      "3    1\n",
      "4    0\n",
      "Name: Load-shedding_encoded, dtype: int64\n"
     ]
    }
   ],
   "source": [
    "# Features (X)\n",
    "features = df.drop(['Load-shedding_encoded'], axis=1)\n",
    "\n",
    "# Labels (y)\n",
    "labels = df['Load-shedding_encoded']\n",
    "\n",
    "# Display the features and labels\n",
    "print(\"Features:\")\n",
    "print(features)\n",
    "print(\"\\nLabels:\")\n",
    "print(labels)\n"
   ]
  },
  {
   "cell_type": "markdown",
   "id": "361f4787",
   "metadata": {
    "papermill": {
     "duration": 0.007244,
     "end_time": "2024-11-05T22:40:46.824673",
     "exception": false,
     "start_time": "2024-11-05T22:40:46.817429",
     "status": "completed"
    },
    "tags": []
   },
   "source": [
    "# Train-Test Split:\n",
    "\n",
    "Split the dataset into training and testing sets using train_test_split.\n"
   ]
  },
  {
   "cell_type": "code",
   "execution_count": 8,
   "id": "40f77c5a",
   "metadata": {
    "execution": {
     "iopub.execute_input": "2024-11-05T22:40:46.841533Z",
     "iopub.status.busy": "2024-11-05T22:40:46.841163Z",
     "iopub.status.idle": "2024-11-05T22:40:46.845921Z",
     "shell.execute_reply": "2024-11-05T22:40:46.844781Z"
    },
    "papermill": {
     "duration": 0.01588,
     "end_time": "2024-11-05T22:40:46.848007",
     "exception": false,
     "start_time": "2024-11-05T22:40:46.832127",
     "status": "completed"
    },
    "tags": []
   },
   "outputs": [],
   "source": [
    "x=features\n",
    "y=labels"
   ]
  },
  {
   "cell_type": "code",
   "execution_count": 9,
   "id": "95580cfe",
   "metadata": {
    "execution": {
     "iopub.execute_input": "2024-11-05T22:40:46.864899Z",
     "iopub.status.busy": "2024-11-05T22:40:46.864486Z",
     "iopub.status.idle": "2024-11-05T22:40:46.874284Z",
     "shell.execute_reply": "2024-11-05T22:40:46.873284Z"
    },
    "papermill": {
     "duration": 0.021066,
     "end_time": "2024-11-05T22:40:46.876730",
     "exception": false,
     "start_time": "2024-11-05T22:40:46.855664",
     "status": "completed"
    },
    "tags": []
   },
   "outputs": [],
   "source": [
    "x_train, x_test, y_train, y_test = train_test_split(x, y, test_size=0.33, random_state=42)"
   ]
  },
  {
   "cell_type": "code",
   "execution_count": 10,
   "id": "db33e417",
   "metadata": {
    "execution": {
     "iopub.execute_input": "2024-11-05T22:40:46.894998Z",
     "iopub.status.busy": "2024-11-05T22:40:46.893922Z",
     "iopub.status.idle": "2024-11-05T22:40:46.910736Z",
     "shell.execute_reply": "2024-11-05T22:40:46.909621Z"
    },
    "papermill": {
     "duration": 0.027987,
     "end_time": "2024-11-05T22:40:46.912918",
     "exception": false,
     "start_time": "2024-11-05T22:40:46.884931",
     "status": "completed"
    },
    "tags": []
   },
   "outputs": [
    {
     "data": {
      "text/html": [
       "<div>\n",
       "<style scoped>\n",
       "    .dataframe tbody tr th:only-of-type {\n",
       "        vertical-align: middle;\n",
       "    }\n",
       "\n",
       "    .dataframe tbody tr th {\n",
       "        vertical-align: top;\n",
       "    }\n",
       "\n",
       "    .dataframe thead th {\n",
       "        text-align: right;\n",
       "    }\n",
       "</style>\n",
       "<table border=\"1\" class=\"dataframe\">\n",
       "  <thead>\n",
       "    <tr style=\"text-align: right;\">\n",
       "      <th></th>\n",
       "      <th>Gender</th>\n",
       "      <th>Age</th>\n",
       "      <th>Education Level</th>\n",
       "      <th>Institution Type</th>\n",
       "      <th>IT Student</th>\n",
       "      <th>Location</th>\n",
       "      <th>Load-shedding</th>\n",
       "      <th>Financial Condition</th>\n",
       "      <th>Internet Type</th>\n",
       "      <th>Network Type</th>\n",
       "      <th>Gender_encoded</th>\n",
       "      <th>Age_encoded</th>\n",
       "      <th>Education Level_encoded</th>\n",
       "      <th>Institution Type_encoded</th>\n",
       "      <th>IT Student_encoded</th>\n",
       "      <th>Location_encoded</th>\n",
       "      <th>Financial Condition_encoded</th>\n",
       "      <th>Internet Type_encoded</th>\n",
       "      <th>Network Type_encoded</th>\n",
       "    </tr>\n",
       "  </thead>\n",
       "  <tbody>\n",
       "    <tr>\n",
       "      <th>2</th>\n",
       "      <td>Male</td>\n",
       "      <td>18-24</td>\n",
       "      <td>High School</td>\n",
       "      <td>Public</td>\n",
       "      <td>Yes</td>\n",
       "      <td>Urban</td>\n",
       "      <td>Medium</td>\n",
       "      <td>Good</td>\n",
       "      <td>Wi-Fi</td>\n",
       "      <td>Wired</td>\n",
       "      <td>1</td>\n",
       "      <td>0</td>\n",
       "      <td>1</td>\n",
       "      <td>1</td>\n",
       "      <td>1</td>\n",
       "      <td>1</td>\n",
       "      <td>2</td>\n",
       "      <td>2</td>\n",
       "      <td>0</td>\n",
       "    </tr>\n",
       "    <tr>\n",
       "      <th>0</th>\n",
       "      <td>Male</td>\n",
       "      <td>18-24</td>\n",
       "      <td>High School</td>\n",
       "      <td>Public</td>\n",
       "      <td>Yes</td>\n",
       "      <td>Urban</td>\n",
       "      <td>Low</td>\n",
       "      <td>Good</td>\n",
       "      <td>Broadband</td>\n",
       "      <td>Wired</td>\n",
       "      <td>1</td>\n",
       "      <td>0</td>\n",
       "      <td>1</td>\n",
       "      <td>1</td>\n",
       "      <td>1</td>\n",
       "      <td>1</td>\n",
       "      <td>2</td>\n",
       "      <td>0</td>\n",
       "      <td>0</td>\n",
       "    </tr>\n",
       "    <tr>\n",
       "      <th>3</th>\n",
       "      <td>Female</td>\n",
       "      <td>35-44</td>\n",
       "      <td>Master</td>\n",
       "      <td>Private</td>\n",
       "      <td>No</td>\n",
       "      <td>Urban</td>\n",
       "      <td>Low</td>\n",
       "      <td>Excellent</td>\n",
       "      <td>Broadband</td>\n",
       "      <td>Wireless</td>\n",
       "      <td>0</td>\n",
       "      <td>2</td>\n",
       "      <td>2</td>\n",
       "      <td>0</td>\n",
       "      <td>0</td>\n",
       "      <td>1</td>\n",
       "      <td>0</td>\n",
       "      <td>0</td>\n",
       "      <td>1</td>\n",
       "    </tr>\n",
       "  </tbody>\n",
       "</table>\n",
       "</div>"
      ],
      "text/plain": [
       "   Gender    Age Education Level Institution Type IT Student Location  \\\n",
       "2    Male  18-24     High School           Public        Yes    Urban   \n",
       "0    Male  18-24     High School           Public        Yes    Urban   \n",
       "3  Female  35-44          Master          Private         No    Urban   \n",
       "\n",
       "  Load-shedding Financial Condition Internet Type Network Type  \\\n",
       "2        Medium                Good         Wi-Fi        Wired   \n",
       "0           Low                Good     Broadband        Wired   \n",
       "3           Low           Excellent     Broadband     Wireless   \n",
       "\n",
       "   Gender_encoded  Age_encoded  Education Level_encoded  \\\n",
       "2               1            0                        1   \n",
       "0               1            0                        1   \n",
       "3               0            2                        2   \n",
       "\n",
       "   Institution Type_encoded  IT Student_encoded  Location_encoded  \\\n",
       "2                         1                   1                 1   \n",
       "0                         1                   1                 1   \n",
       "3                         0                   0                 1   \n",
       "\n",
       "   Financial Condition_encoded  Internet Type_encoded  Network Type_encoded  \n",
       "2                            2                      2                     0  \n",
       "0                            2                      0                     0  \n",
       "3                            0                      0                     1  "
      ]
     },
     "execution_count": 10,
     "metadata": {},
     "output_type": "execute_result"
    }
   ],
   "source": [
    "x_train"
   ]
  },
  {
   "cell_type": "code",
   "execution_count": 11,
   "id": "5bb9c39f",
   "metadata": {
    "execution": {
     "iopub.execute_input": "2024-11-05T22:40:46.930457Z",
     "iopub.status.busy": "2024-11-05T22:40:46.930079Z",
     "iopub.status.idle": "2024-11-05T22:40:46.937719Z",
     "shell.execute_reply": "2024-11-05T22:40:46.936584Z"
    },
    "papermill": {
     "duration": 0.019024,
     "end_time": "2024-11-05T22:40:46.939917",
     "exception": false,
     "start_time": "2024-11-05T22:40:46.920893",
     "status": "completed"
    },
    "tags": []
   },
   "outputs": [
    {
     "data": {
      "text/plain": [
       "2    2\n",
       "0    1\n",
       "3    1\n",
       "Name: Load-shedding_encoded, dtype: int64"
      ]
     },
     "execution_count": 11,
     "metadata": {},
     "output_type": "execute_result"
    }
   ],
   "source": [
    "y_train"
   ]
  },
  {
   "cell_type": "code",
   "execution_count": 12,
   "id": "93a0fe8d",
   "metadata": {
    "execution": {
     "iopub.execute_input": "2024-11-05T22:40:46.958130Z",
     "iopub.status.busy": "2024-11-05T22:40:46.957390Z",
     "iopub.status.idle": "2024-11-05T22:40:46.973077Z",
     "shell.execute_reply": "2024-11-05T22:40:46.972104Z"
    },
    "papermill": {
     "duration": 0.02704,
     "end_time": "2024-11-05T22:40:46.975213",
     "exception": false,
     "start_time": "2024-11-05T22:40:46.948173",
     "status": "completed"
    },
    "tags": []
   },
   "outputs": [
    {
     "data": {
      "text/html": [
       "<div>\n",
       "<style scoped>\n",
       "    .dataframe tbody tr th:only-of-type {\n",
       "        vertical-align: middle;\n",
       "    }\n",
       "\n",
       "    .dataframe tbody tr th {\n",
       "        vertical-align: top;\n",
       "    }\n",
       "\n",
       "    .dataframe thead th {\n",
       "        text-align: right;\n",
       "    }\n",
       "</style>\n",
       "<table border=\"1\" class=\"dataframe\">\n",
       "  <thead>\n",
       "    <tr style=\"text-align: right;\">\n",
       "      <th></th>\n",
       "      <th>Gender</th>\n",
       "      <th>Age</th>\n",
       "      <th>Education Level</th>\n",
       "      <th>Institution Type</th>\n",
       "      <th>IT Student</th>\n",
       "      <th>Location</th>\n",
       "      <th>Load-shedding</th>\n",
       "      <th>Financial Condition</th>\n",
       "      <th>Internet Type</th>\n",
       "      <th>Network Type</th>\n",
       "      <th>Gender_encoded</th>\n",
       "      <th>Age_encoded</th>\n",
       "      <th>Education Level_encoded</th>\n",
       "      <th>Institution Type_encoded</th>\n",
       "      <th>IT Student_encoded</th>\n",
       "      <th>Location_encoded</th>\n",
       "      <th>Financial Condition_encoded</th>\n",
       "      <th>Internet Type_encoded</th>\n",
       "      <th>Network Type_encoded</th>\n",
       "    </tr>\n",
       "  </thead>\n",
       "  <tbody>\n",
       "    <tr>\n",
       "      <th>1</th>\n",
       "      <td>Female</td>\n",
       "      <td>25-34</td>\n",
       "      <td>Bachelor</td>\n",
       "      <td>Private</td>\n",
       "      <td>No</td>\n",
       "      <td>Rural</td>\n",
       "      <td>High</td>\n",
       "      <td>Poor</td>\n",
       "      <td>Mobile Data</td>\n",
       "      <td>Wireless</td>\n",
       "      <td>0</td>\n",
       "      <td>1</td>\n",
       "      <td>0</td>\n",
       "      <td>0</td>\n",
       "      <td>0</td>\n",
       "      <td>0</td>\n",
       "      <td>3</td>\n",
       "      <td>1</td>\n",
       "      <td>1</td>\n",
       "    </tr>\n",
       "    <tr>\n",
       "      <th>4</th>\n",
       "      <td>Male</td>\n",
       "      <td>25-34</td>\n",
       "      <td>Bachelor</td>\n",
       "      <td>Public</td>\n",
       "      <td>Yes</td>\n",
       "      <td>Rural</td>\n",
       "      <td>High</td>\n",
       "      <td>Fair</td>\n",
       "      <td>Mobile Data</td>\n",
       "      <td>Wired</td>\n",
       "      <td>1</td>\n",
       "      <td>1</td>\n",
       "      <td>0</td>\n",
       "      <td>1</td>\n",
       "      <td>1</td>\n",
       "      <td>0</td>\n",
       "      <td>1</td>\n",
       "      <td>1</td>\n",
       "      <td>0</td>\n",
       "    </tr>\n",
       "  </tbody>\n",
       "</table>\n",
       "</div>"
      ],
      "text/plain": [
       "   Gender    Age Education Level Institution Type IT Student Location  \\\n",
       "1  Female  25-34        Bachelor          Private         No    Rural   \n",
       "4    Male  25-34        Bachelor           Public        Yes    Rural   \n",
       "\n",
       "  Load-shedding Financial Condition Internet Type Network Type  \\\n",
       "1          High                Poor   Mobile Data     Wireless   \n",
       "4          High                Fair   Mobile Data        Wired   \n",
       "\n",
       "   Gender_encoded  Age_encoded  Education Level_encoded  \\\n",
       "1               0            1                        0   \n",
       "4               1            1                        0   \n",
       "\n",
       "   Institution Type_encoded  IT Student_encoded  Location_encoded  \\\n",
       "1                         0                   0                 0   \n",
       "4                         1                   1                 0   \n",
       "\n",
       "   Financial Condition_encoded  Internet Type_encoded  Network Type_encoded  \n",
       "1                            3                      1                     1  \n",
       "4                            1                      1                     0  "
      ]
     },
     "execution_count": 12,
     "metadata": {},
     "output_type": "execute_result"
    }
   ],
   "source": [
    "x_test"
   ]
  },
  {
   "cell_type": "code",
   "execution_count": 13,
   "id": "803d1b28",
   "metadata": {
    "execution": {
     "iopub.execute_input": "2024-11-05T22:40:46.993188Z",
     "iopub.status.busy": "2024-11-05T22:40:46.992787Z",
     "iopub.status.idle": "2024-11-05T22:40:47.000737Z",
     "shell.execute_reply": "2024-11-05T22:40:46.999631Z"
    },
    "papermill": {
     "duration": 0.019629,
     "end_time": "2024-11-05T22:40:47.003171",
     "exception": false,
     "start_time": "2024-11-05T22:40:46.983542",
     "status": "completed"
    },
    "tags": []
   },
   "outputs": [
    {
     "data": {
      "text/plain": [
       "1    0\n",
       "4    0\n",
       "Name: Load-shedding_encoded, dtype: int64"
      ]
     },
     "execution_count": 13,
     "metadata": {},
     "output_type": "execute_result"
    }
   ],
   "source": [
    "y_test"
   ]
  },
  {
   "cell_type": "code",
   "execution_count": 14,
   "id": "2fdab4ab",
   "metadata": {
    "execution": {
     "iopub.execute_input": "2024-11-05T22:40:47.021772Z",
     "iopub.status.busy": "2024-11-05T22:40:47.021334Z",
     "iopub.status.idle": "2024-11-05T22:40:47.026311Z",
     "shell.execute_reply": "2024-11-05T22:40:47.025254Z"
    },
    "papermill": {
     "duration": 0.01694,
     "end_time": "2024-11-05T22:40:47.028569",
     "exception": false,
     "start_time": "2024-11-05T22:40:47.011629",
     "status": "completed"
    },
    "tags": []
   },
   "outputs": [],
   "source": [
    "from sklearn.preprocessing import MinMaxScaler"
   ]
  },
  {
   "cell_type": "markdown",
   "id": "2966ba64",
   "metadata": {
    "papermill": {
     "duration": 0.007894,
     "end_time": "2024-11-05T22:40:47.044734",
     "exception": false,
     "start_time": "2024-11-05T22:40:47.036840",
     "status": "completed"
    },
    "tags": []
   },
   "source": [
    "# Pipeline Creation:\n",
    "\n",
    "Set up a pipeline for preprocessing, which includes one-hot encoding of categorical variables and standard scaling.\n"
   ]
  },
  {
   "cell_type": "code",
   "execution_count": 15,
   "id": "c931a2b3",
   "metadata": {
    "execution": {
     "iopub.execute_input": "2024-11-05T22:40:47.063741Z",
     "iopub.status.busy": "2024-11-05T22:40:47.062633Z",
     "iopub.status.idle": "2024-11-05T22:40:47.092988Z",
     "shell.execute_reply": "2024-11-05T22:40:47.091899Z"
    },
    "papermill": {
     "duration": 0.042243,
     "end_time": "2024-11-05T22:40:47.095388",
     "exception": false,
     "start_time": "2024-11-05T22:40:47.053145",
     "status": "completed"
    },
    "tags": []
   },
   "outputs": [
    {
     "name": "stdout",
     "output_type": "stream",
     "text": [
      "[[0.         2.04124145 2.04124145 0.         0.         0.\n",
      "  2.04124145 0.         0.         2.04124145 0.         2.04124145\n",
      "  0.         2.04124145 0.         0.         2.04124145 0.\n",
      "  2.04124145 0.         0.         2.04124145 0.        ]\n",
      " [2.04124145 0.         0.         2.04124145 0.         2.04124145\n",
      "  0.         0.         2.04124145 0.         2.04124145 0.\n",
      "  2.04124145 0.         0.         0.         0.         2.5\n",
      "  0.         2.04124145 0.         0.         2.04124145]\n",
      " [0.         2.04124145 2.04124145 0.         0.         0.\n",
      "  2.04124145 0.         0.         2.04124145 0.         2.04124145\n",
      "  0.         2.04124145 0.         0.         2.04124145 0.\n",
      "  0.         0.         2.5        2.04124145 0.        ]\n",
      " [2.04124145 0.         0.         0.         2.5        0.\n",
      "  0.         2.5        2.04124145 0.         2.04124145 0.\n",
      "  0.         2.04124145 2.5        0.         0.         0.\n",
      "  2.04124145 0.         0.         0.         2.04124145]\n",
      " [0.         2.04124145 0.         2.04124145 0.         2.04124145\n",
      "  0.         0.         0.         2.04124145 0.         2.04124145\n",
      "  2.04124145 0.         0.         2.5        0.         0.\n",
      "  0.         2.04124145 0.         2.04124145 0.        ]]\n"
     ]
    }
   ],
   "source": [
    "import pandas as pd\n",
    "from sklearn.preprocessing import StandardScaler, OneHotEncoder\n",
    "from sklearn.compose import ColumnTransformer\n",
    "from sklearn.pipeline import Pipeline\n",
    "\n",
    "# Sample DataFrame\n",
    "data = {\n",
    "    'Gender': ['Male', 'Female', 'Male', 'Female', 'Male'],\n",
    "    'Age': ['18-24', '25-34', '18-24', '35-44', '25-34'],\n",
    "    'Education Level': ['High School', 'Bachelor', 'High School', 'Master', 'Bachelor'],\n",
    "    'Institution Type': ['Public', 'Private', 'Public', 'Private', 'Public'],\n",
    "    'IT Student': ['Yes', 'No', 'Yes', 'No', 'Yes'],\n",
    "    'Location': ['Urban', 'Rural', 'Urban', 'Urban', 'Rural'],\n",
    "    'Load-shedding': ['Low', 'High', 'Medium', 'Low', 'High'],\n",
    "    'Financial Condition': ['Good', 'Poor', 'Good', 'Excellent', 'Fair'],\n",
    "    'Internet Type': ['Broadband', 'Mobile Data', 'Wi-Fi', 'Broadband', 'Mobile Data'],\n",
    "    'Network Type': ['Wired', 'Wireless', 'Wired', 'Wireless', 'Wired']\n",
    "}\n",
    "\n",
    "df = pd.DataFrame(data)\n",
    "\n",
    "# Separate features and labels\n",
    "X = df.drop(['Load-shedding'], axis=1)\n",
    "y = df['Load-shedding']\n",
    "\n",
    "# Identify categorical columns\n",
    "categorical_columns = X.select_dtypes(include=['object']).columns\n",
    "\n",
    "# Create a ColumnTransformer to apply different preprocessing steps to different columns\n",
    "preprocessor = ColumnTransformer(\n",
    "    transformers=[\n",
    "        ('cat', OneHotEncoder(), categorical_columns)\n",
    "    ],\n",
    "    remainder='passthrough'  # To keep any numerical columns, though none are in this example\n",
    ")\n",
    "\n",
    "# Create a pipeline with preprocessing and standard scaling\n",
    "pipeline = Pipeline([\n",
    "    ('preprocessor', preprocessor),\n",
    "    ('scaler', StandardScaler(with_mean=False))  # Set 'with_mean=False' because OneHotEncoder creates sparse matrix\n",
    "])\n",
    "\n",
    "# Fit and transform the data using the pipeline\n",
    "X_transformed = pipeline.fit_transform(X)\n",
    "\n",
    "# Print the transformed data (optional)\n",
    "print(X_transformed)\n",
    "\n",
    "# The following line assumes you have a separate x_train dataset to transform\n",
    "# If you have x_train defined, use the pipeline to transform it:\n",
    "# x_train_transformed = pipeline.transform(x_train)\n"
   ]
  },
  {
   "cell_type": "code",
   "execution_count": 16,
   "id": "0796a72a",
   "metadata": {
    "execution": {
     "iopub.execute_input": "2024-11-05T22:40:47.114617Z",
     "iopub.status.busy": "2024-11-05T22:40:47.113793Z",
     "iopub.status.idle": "2024-11-05T22:40:47.118700Z",
     "shell.execute_reply": "2024-11-05T22:40:47.117606Z"
    },
    "papermill": {
     "duration": 0.016863,
     "end_time": "2024-11-05T22:40:47.120932",
     "exception": false,
     "start_time": "2024-11-05T22:40:47.104069",
     "status": "completed"
    },
    "tags": []
   },
   "outputs": [],
   "source": [
    "scaler_object = MinMaxScaler()"
   ]
  },
  {
   "cell_type": "markdown",
   "id": "06a5e83f",
   "metadata": {
    "papermill": {
     "duration": 0.007948,
     "end_time": "2024-11-05T22:40:47.137239",
     "exception": false,
     "start_time": "2024-11-05T22:40:47.129291",
     "status": "completed"
    },
    "tags": []
   },
   "source": [
    "Neural Network Model Setup:\n",
    "\n",
    "Defined a simple neural network model using TensorFlow's Keras API.\n",
    "Compiled the model with an optimizer and loss function suitable for binary classification."
   ]
  },
  {
   "cell_type": "code",
   "execution_count": 17,
   "id": "d051d2c9",
   "metadata": {
    "execution": {
     "iopub.execute_input": "2024-11-05T22:40:47.155466Z",
     "iopub.status.busy": "2024-11-05T22:40:47.155087Z",
     "iopub.status.idle": "2024-11-05T22:40:47.176663Z",
     "shell.execute_reply": "2024-11-05T22:40:47.175413Z"
    },
    "papermill": {
     "duration": 0.033324,
     "end_time": "2024-11-05T22:40:47.178874",
     "exception": false,
     "start_time": "2024-11-05T22:40:47.145550",
     "status": "completed"
    },
    "tags": []
   },
   "outputs": [],
   "source": [
    "import pandas as pd\n",
    "from sklearn.preprocessing import StandardScaler, OneHotEncoder\n",
    "from sklearn.compose import ColumnTransformer\n",
    "from sklearn.pipeline import Pipeline\n",
    "\n",
    "# Sample DataFrame\n",
    "data = {\n",
    "    'Gender': ['Male', 'Female', 'Male', 'Female', 'Male'],\n",
    "    'Age': ['18-24', '25-34', '18-24', '35-44', '25-34'],\n",
    "    'Education Level': ['High School', 'Bachelor', 'High School', 'Master', 'Bachelor'],\n",
    "    'Institution Type': ['Public', 'Private', 'Public', 'Private', 'Public'],\n",
    "    'IT Student': ['Yes', 'No', 'Yes', 'No', 'Yes'],\n",
    "    'Location': ['Urban', 'Rural', 'Urban', 'Urban', 'Rural'],\n",
    "    'Load-shedding': ['Low', 'High', 'Medium', 'Low', 'High'],\n",
    "    'Financial Condition': ['Good', 'Poor', 'Good', 'Excellent', 'Fair'],\n",
    "    'Internet Type': ['Broadband', 'Mobile Data', 'Wi-Fi', 'Broadband', 'Mobile Data'],\n",
    "    'Network Type': ['Wired', 'Wireless', 'Wired', 'Wireless', 'Wired']\n",
    "}\n",
    "\n",
    "df = pd.DataFrame(data)\n",
    "\n",
    "# Separate features and labels\n",
    "X = df.drop(['Load-shedding'], axis=1)\n",
    "y = df['Load-shedding']\n",
    "\n",
    "# Identify categorical columns\n",
    "categorical_columns = X.select_dtypes(include=['object']).columns\n",
    "\n",
    "# Create a transformer for one-hot encoding and standard scaling\n",
    "preprocessor = ColumnTransformer(\n",
    "    transformers=[\n",
    "        ('cat', OneHotEncoder(), categorical_columns)\n",
    "    ],\n",
    "    remainder='passthrough'\n",
    ")\n",
    "\n",
    "# Create a pipeline with one-hot encoding and standard scaling\n",
    "pipeline = Pipeline([\n",
    "    ('preprocessor', preprocessor),\n",
    "    ('scaler', StandardScaler())\n",
    "])\n",
    "\n",
    "# Fit and transform the data using the pipeline\n",
    "X_transformed = pipeline.fit_transform(X)\n",
    "\n",
    "# If you have a separate x_train dataset, transform it using the same pipeline\n",
    "x_train_transformed = pipeline.transform(x_train)\n",
    "\n",
    "# Now, you can use the transformed data for further processing or modeling\n"
   ]
  },
  {
   "cell_type": "code",
   "execution_count": 18,
   "id": "bb04ac02",
   "metadata": {
    "execution": {
     "iopub.execute_input": "2024-11-05T22:40:47.197721Z",
     "iopub.status.busy": "2024-11-05T22:40:47.196934Z",
     "iopub.status.idle": "2024-11-05T22:40:47.203062Z",
     "shell.execute_reply": "2024-11-05T22:40:47.201834Z"
    },
    "papermill": {
     "duration": 0.018301,
     "end_time": "2024-11-05T22:40:47.205485",
     "exception": false,
     "start_time": "2024-11-05T22:40:47.187184",
     "status": "completed"
    },
    "tags": []
   },
   "outputs": [],
   "source": [
    "# Separate features and labels\n",
    "X = df.drop(['Load-shedding'], axis=1)\n",
    "y = df['Load-shedding']\n"
   ]
  },
  {
   "cell_type": "code",
   "execution_count": 19,
   "id": "174f812d",
   "metadata": {
    "execution": {
     "iopub.execute_input": "2024-11-05T22:40:47.224098Z",
     "iopub.status.busy": "2024-11-05T22:40:47.223678Z",
     "iopub.status.idle": "2024-11-05T22:40:47.231513Z",
     "shell.execute_reply": "2024-11-05T22:40:47.230164Z"
    },
    "papermill": {
     "duration": 0.019914,
     "end_time": "2024-11-05T22:40:47.233865",
     "exception": false,
     "start_time": "2024-11-05T22:40:47.213951",
     "status": "completed"
    },
    "tags": []
   },
   "outputs": [],
   "source": [
    "# Assuming you have a dataset for training\n",
    "x_train, x_test, y_train, y_test = train_test_split(X, y, test_size=0.33, random_state=42)\n"
   ]
  },
  {
   "cell_type": "code",
   "execution_count": 20,
   "id": "5f7494f0",
   "metadata": {
    "execution": {
     "iopub.execute_input": "2024-11-05T22:40:47.252282Z",
     "iopub.status.busy": "2024-11-05T22:40:47.251913Z",
     "iopub.status.idle": "2024-11-05T22:40:47.260721Z",
     "shell.execute_reply": "2024-11-05T22:40:47.259752Z"
    },
    "papermill": {
     "duration": 0.020538,
     "end_time": "2024-11-05T22:40:47.262974",
     "exception": false,
     "start_time": "2024-11-05T22:40:47.242436",
     "status": "completed"
    },
    "tags": []
   },
   "outputs": [],
   "source": [
    "# Fit and transform the training data using the same pipeline\n",
    "x_train_transformed = pipeline.transform(x_train)\n"
   ]
  },
  {
   "cell_type": "code",
   "execution_count": 21,
   "id": "51874236",
   "metadata": {
    "execution": {
     "iopub.execute_input": "2024-11-05T22:40:47.281938Z",
     "iopub.status.busy": "2024-11-05T22:40:47.281479Z",
     "iopub.status.idle": "2024-11-05T22:40:47.286029Z",
     "shell.execute_reply": "2024-11-05T22:40:47.284902Z"
    },
    "papermill": {
     "duration": 0.016482,
     "end_time": "2024-11-05T22:40:47.288265",
     "exception": false,
     "start_time": "2024-11-05T22:40:47.271783",
     "status": "completed"
    },
    "tags": []
   },
   "outputs": [],
   "source": [
    "# Now, you can use the transformed training data for further processing or modeling\n",
    "# For example, you can use x_train_transformed in your machine learning models\n"
   ]
  },
  {
   "cell_type": "markdown",
   "id": "e301e3ad",
   "metadata": {
    "papermill": {
     "duration": 0.007916,
     "end_time": "2024-11-05T22:40:47.304543",
     "exception": false,
     "start_time": "2024-11-05T22:40:47.296627",
     "status": "completed"
    },
    "tags": []
   },
   "source": [
    "# Neural Network Model Setup:\n",
    "\n",
    "Defined a simple neural network model using TensorFlow's Keras API.\n",
    "Compiled the model with an optimizer and loss function suitable for binary classification."
   ]
  },
  {
   "cell_type": "code",
   "execution_count": 22,
   "id": "0dc788ed",
   "metadata": {
    "execution": {
     "iopub.execute_input": "2024-11-05T22:40:47.323115Z",
     "iopub.status.busy": "2024-11-05T22:40:47.322548Z",
     "iopub.status.idle": "2024-11-05T22:41:00.765892Z",
     "shell.execute_reply": "2024-11-05T22:41:00.764632Z"
    },
    "papermill": {
     "duration": 13.455205,
     "end_time": "2024-11-05T22:41:00.768170",
     "exception": false,
     "start_time": "2024-11-05T22:40:47.312965",
     "status": "completed"
    },
    "tags": []
   },
   "outputs": [
    {
     "data": {
      "text/html": [
       "<pre style=\"white-space:pre;overflow-x:auto;line-height:normal;font-family:Menlo,'DejaVu Sans Mono',consolas,'Courier New',monospace\"><span style=\"font-weight: bold\">Model: \"sequential\"</span>\n",
       "</pre>\n"
      ],
      "text/plain": [
       "\u001b[1mModel: \"sequential\"\u001b[0m\n"
      ]
     },
     "metadata": {},
     "output_type": "display_data"
    },
    {
     "data": {
      "text/html": [
       "<pre style=\"white-space:pre;overflow-x:auto;line-height:normal;font-family:Menlo,'DejaVu Sans Mono',consolas,'Courier New',monospace\">┏━━━━━━━━━━━━━━━━━━━━━━━━━━━━━━━━━┳━━━━━━━━━━━━━━━━━━━━━━━━┳━━━━━━━━━━━━━━━┓\n",
       "┃<span style=\"font-weight: bold\"> Layer (type)                    </span>┃<span style=\"font-weight: bold\"> Output Shape           </span>┃<span style=\"font-weight: bold\">       Param # </span>┃\n",
       "┡━━━━━━━━━━━━━━━━━━━━━━━━━━━━━━━━━╇━━━━━━━━━━━━━━━━━━━━━━━━╇━━━━━━━━━━━━━━━┩\n",
       "│ dense (<span style=\"color: #0087ff; text-decoration-color: #0087ff\">Dense</span>)                   │ (<span style=\"color: #00d7ff; text-decoration-color: #00d7ff\">None</span>, <span style=\"color: #00af00; text-decoration-color: #00af00\">128</span>)            │         <span style=\"color: #00af00; text-decoration-color: #00af00\">3,072</span> │\n",
       "├─────────────────────────────────┼────────────────────────┼───────────────┤\n",
       "│ dense_1 (<span style=\"color: #0087ff; text-decoration-color: #0087ff\">Dense</span>)                 │ (<span style=\"color: #00d7ff; text-decoration-color: #00d7ff\">None</span>, <span style=\"color: #00af00; text-decoration-color: #00af00\">64</span>)             │         <span style=\"color: #00af00; text-decoration-color: #00af00\">8,256</span> │\n",
       "├─────────────────────────────────┼────────────────────────┼───────────────┤\n",
       "│ dense_2 (<span style=\"color: #0087ff; text-decoration-color: #0087ff\">Dense</span>)                 │ (<span style=\"color: #00d7ff; text-decoration-color: #00d7ff\">None</span>, <span style=\"color: #00af00; text-decoration-color: #00af00\">1</span>)              │            <span style=\"color: #00af00; text-decoration-color: #00af00\">65</span> │\n",
       "└─────────────────────────────────┴────────────────────────┴───────────────┘\n",
       "</pre>\n"
      ],
      "text/plain": [
       "┏━━━━━━━━━━━━━━━━━━━━━━━━━━━━━━━━━┳━━━━━━━━━━━━━━━━━━━━━━━━┳━━━━━━━━━━━━━━━┓\n",
       "┃\u001b[1m \u001b[0m\u001b[1mLayer (type)                   \u001b[0m\u001b[1m \u001b[0m┃\u001b[1m \u001b[0m\u001b[1mOutput Shape          \u001b[0m\u001b[1m \u001b[0m┃\u001b[1m \u001b[0m\u001b[1m      Param #\u001b[0m\u001b[1m \u001b[0m┃\n",
       "┡━━━━━━━━━━━━━━━━━━━━━━━━━━━━━━━━━╇━━━━━━━━━━━━━━━━━━━━━━━━╇━━━━━━━━━━━━━━━┩\n",
       "│ dense (\u001b[38;5;33mDense\u001b[0m)                   │ (\u001b[38;5;45mNone\u001b[0m, \u001b[38;5;34m128\u001b[0m)            │         \u001b[38;5;34m3,072\u001b[0m │\n",
       "├─────────────────────────────────┼────────────────────────┼───────────────┤\n",
       "│ dense_1 (\u001b[38;5;33mDense\u001b[0m)                 │ (\u001b[38;5;45mNone\u001b[0m, \u001b[38;5;34m64\u001b[0m)             │         \u001b[38;5;34m8,256\u001b[0m │\n",
       "├─────────────────────────────────┼────────────────────────┼───────────────┤\n",
       "│ dense_2 (\u001b[38;5;33mDense\u001b[0m)                 │ (\u001b[38;5;45mNone\u001b[0m, \u001b[38;5;34m1\u001b[0m)              │            \u001b[38;5;34m65\u001b[0m │\n",
       "└─────────────────────────────────┴────────────────────────┴───────────────┘\n"
      ]
     },
     "metadata": {},
     "output_type": "display_data"
    },
    {
     "data": {
      "text/html": [
       "<pre style=\"white-space:pre;overflow-x:auto;line-height:normal;font-family:Menlo,'DejaVu Sans Mono',consolas,'Courier New',monospace\"><span style=\"font-weight: bold\"> Total params: </span><span style=\"color: #00af00; text-decoration-color: #00af00\">11,393</span> (44.50 KB)\n",
       "</pre>\n"
      ],
      "text/plain": [
       "\u001b[1m Total params: \u001b[0m\u001b[38;5;34m11,393\u001b[0m (44.50 KB)\n"
      ]
     },
     "metadata": {},
     "output_type": "display_data"
    },
    {
     "data": {
      "text/html": [
       "<pre style=\"white-space:pre;overflow-x:auto;line-height:normal;font-family:Menlo,'DejaVu Sans Mono',consolas,'Courier New',monospace\"><span style=\"font-weight: bold\"> Trainable params: </span><span style=\"color: #00af00; text-decoration-color: #00af00\">11,393</span> (44.50 KB)\n",
       "</pre>\n"
      ],
      "text/plain": [
       "\u001b[1m Trainable params: \u001b[0m\u001b[38;5;34m11,393\u001b[0m (44.50 KB)\n"
      ]
     },
     "metadata": {},
     "output_type": "display_data"
    },
    {
     "data": {
      "text/html": [
       "<pre style=\"white-space:pre;overflow-x:auto;line-height:normal;font-family:Menlo,'DejaVu Sans Mono',consolas,'Courier New',monospace\"><span style=\"font-weight: bold\"> Non-trainable params: </span><span style=\"color: #00af00; text-decoration-color: #00af00\">0</span> (0.00 B)\n",
       "</pre>\n"
      ],
      "text/plain": [
       "\u001b[1m Non-trainable params: \u001b[0m\u001b[38;5;34m0\u001b[0m (0.00 B)\n"
      ]
     },
     "metadata": {},
     "output_type": "display_data"
    }
   ],
   "source": [
    "import tensorflow as tf\n",
    "\n",
    "# Assuming x_train_transformed is already defined and transformed\n",
    "input_shape = x_train_transformed.shape[1]\n",
    "\n",
    "# Define your model using the Sequential API\n",
    "model = tf.keras.models.Sequential([\n",
    "    tf.keras.layers.Dense(128, activation='relu', input_shape=(input_shape,)),\n",
    "    tf.keras.layers.Dense(64, activation='relu'),\n",
    "    tf.keras.layers.Dense(1, activation='sigmoid')  # Assuming binary classification\n",
    "])\n",
    "\n",
    "# Print the model summary (optional)\n",
    "model.summary()\n"
   ]
  },
  {
   "cell_type": "code",
   "execution_count": 23,
   "id": "9ab7583c",
   "metadata": {
    "execution": {
     "iopub.execute_input": "2024-11-05T22:41:00.789585Z",
     "iopub.status.busy": "2024-11-05T22:41:00.788241Z",
     "iopub.status.idle": "2024-11-05T22:41:00.805289Z",
     "shell.execute_reply": "2024-11-05T22:41:00.804179Z"
    },
    "papermill": {
     "duration": 0.03021,
     "end_time": "2024-11-05T22:41:00.807983",
     "exception": false,
     "start_time": "2024-11-05T22:41:00.777773",
     "status": "completed"
    },
    "tags": []
   },
   "outputs": [],
   "source": [
    "model.compile(optimizer='adam', loss='binary_crossentropy', metrics=['accuracy'])\n"
   ]
  },
  {
   "cell_type": "code",
   "execution_count": 24,
   "id": "dd97ecb1",
   "metadata": {
    "execution": {
     "iopub.execute_input": "2024-11-05T22:41:00.828044Z",
     "iopub.status.busy": "2024-11-05T22:41:00.827602Z",
     "iopub.status.idle": "2024-11-05T22:41:02.871420Z",
     "shell.execute_reply": "2024-11-05T22:41:02.870484Z"
    },
    "papermill": {
     "duration": 2.056895,
     "end_time": "2024-11-05T22:41:02.873973",
     "exception": false,
     "start_time": "2024-11-05T22:41:00.817078",
     "status": "completed"
    },
    "tags": []
   },
   "outputs": [
    {
     "name": "stdout",
     "output_type": "stream",
     "text": [
      "Epoch 1/10\n",
      "\u001b[1m1/1\u001b[0m \u001b[32m━━━━━━━━━━━━━━━━━━━━\u001b[0m\u001b[37m\u001b[0m \u001b[1m1s\u001b[0m 1s/step - accuracy: 0.0000e+00 - loss: 0.7537 - val_accuracy: 0.5000 - val_loss: 0.7491\n",
      "Epoch 2/10\n",
      "\u001b[1m1/1\u001b[0m \u001b[32m━━━━━━━━━━━━━━━━━━━━\u001b[0m\u001b[37m\u001b[0m \u001b[1m0s\u001b[0m 48ms/step - accuracy: 0.3333 - loss: 0.5228 - val_accuracy: 0.5000 - val_loss: 0.7849\n",
      "Epoch 3/10\n",
      "\u001b[1m1/1\u001b[0m \u001b[32m━━━━━━━━━━━━━━━━━━━━\u001b[0m\u001b[37m\u001b[0m \u001b[1m0s\u001b[0m 52ms/step - accuracy: 0.6667 - loss: 0.3174 - val_accuracy: 0.5000 - val_loss: 0.8212\n",
      "Epoch 4/10\n",
      "\u001b[1m1/1\u001b[0m \u001b[32m━━━━━━━━━━━━━━━━━━━━\u001b[0m\u001b[37m\u001b[0m \u001b[1m0s\u001b[0m 48ms/step - accuracy: 0.6667 - loss: 0.1344 - val_accuracy: 0.5000 - val_loss: 0.8571\n",
      "Epoch 5/10\n",
      "\u001b[1m1/1\u001b[0m \u001b[32m━━━━━━━━━━━━━━━━━━━━\u001b[0m\u001b[37m\u001b[0m \u001b[1m0s\u001b[0m 50ms/step - accuracy: 0.6667 - loss: -0.0263 - val_accuracy: 0.0000e+00 - val_loss: 0.8932\n",
      "Epoch 6/10\n",
      "\u001b[1m1/1\u001b[0m \u001b[32m━━━━━━━━━━━━━━━━━━━━\u001b[0m\u001b[37m\u001b[0m \u001b[1m0s\u001b[0m 49ms/step - accuracy: 0.6667 - loss: -0.1687 - val_accuracy: 0.0000e+00 - val_loss: 0.9291\n",
      "Epoch 7/10\n",
      "\u001b[1m1/1\u001b[0m \u001b[32m━━━━━━━━━━━━━━━━━━━━\u001b[0m\u001b[37m\u001b[0m \u001b[1m0s\u001b[0m 49ms/step - accuracy: 0.6667 - loss: -0.3007 - val_accuracy: 0.0000e+00 - val_loss: 0.9657\n",
      "Epoch 8/10\n",
      "\u001b[1m1/1\u001b[0m \u001b[32m━━━━━━━━━━━━━━━━━━━━\u001b[0m\u001b[37m\u001b[0m \u001b[1m0s\u001b[0m 57ms/step - accuracy: 0.6667 - loss: -0.4241 - val_accuracy: 0.0000e+00 - val_loss: 1.0026\n",
      "Epoch 9/10\n",
      "\u001b[1m1/1\u001b[0m \u001b[32m━━━━━━━━━━━━━━━━━━━━\u001b[0m\u001b[37m\u001b[0m \u001b[1m0s\u001b[0m 48ms/step - accuracy: 0.6667 - loss: -0.5408 - val_accuracy: 0.0000e+00 - val_loss: 1.0380\n",
      "Epoch 10/10\n",
      "\u001b[1m1/1\u001b[0m \u001b[32m━━━━━━━━━━━━━━━━━━━━\u001b[0m\u001b[37m\u001b[0m \u001b[1m0s\u001b[0m 58ms/step - accuracy: 0.6667 - loss: -0.6494 - val_accuracy: 0.0000e+00 - val_loss: 1.0738\n"
     ]
    }
   ],
   "source": [
    "from sklearn.preprocessing import LabelEncoder\n",
    "\n",
    "# Combine y_train and y_test to fit the encoder on all possible labels\n",
    "combined_labels = list(y_train) + list(y_test)\n",
    "\n",
    "# Encode target variable\n",
    "label_encoder = LabelEncoder()\n",
    "label_encoder.fit(combined_labels)\n",
    "\n",
    "# Transform the training and test sets\n",
    "y_train_encoded = label_encoder.transform(y_train)\n",
    "y_test_encoded = label_encoder.transform(y_test)\n",
    "# Assuming you have your pipeline already defined and fitted on x_train\n",
    "x_test_transformed = pipeline.transform(x_test)\n",
    "\n",
    "# Now you can use the transformed data for model training and validation\n",
    "epochs = 10\n",
    "batch_size = 20\n",
    "history = model.fit(x_train_transformed, y_train_encoded, epochs=epochs, batch_size=batch_size, validation_data=(x_test_transformed, y_test_encoded))\n"
   ]
  },
  {
   "cell_type": "code",
   "execution_count": 25,
   "id": "f9da6095",
   "metadata": {
    "execution": {
     "iopub.execute_input": "2024-11-05T22:41:02.898094Z",
     "iopub.status.busy": "2024-11-05T22:41:02.897708Z",
     "iopub.status.idle": "2024-11-05T22:41:02.978774Z",
     "shell.execute_reply": "2024-11-05T22:41:02.977635Z"
    },
    "papermill": {
     "duration": 0.095527,
     "end_time": "2024-11-05T22:41:02.980879",
     "exception": false,
     "start_time": "2024-11-05T22:41:02.885352",
     "status": "completed"
    },
    "tags": []
   },
   "outputs": [
    {
     "name": "stdout",
     "output_type": "stream",
     "text": [
      "\u001b[1m1/1\u001b[0m \u001b[32m━━━━━━━━━━━━━━━━━━━━\u001b[0m\u001b[37m\u001b[0m \u001b[1m0s\u001b[0m 23ms/step - accuracy: 0.0000e+00 - loss: 1.0738\n",
      "Test Loss: 1.0737898349761963, Test Accuracy: 0.0\n"
     ]
    }
   ],
   "source": [
    "from sklearn.preprocessing import LabelEncoder\n",
    "\n",
    "# Assuming 'y_test' is a pandas Series\n",
    "label_encoder = LabelEncoder()\n",
    "y_test_encoded = label_encoder.fit_transform(y_test)\n",
    "\n",
    "# Then, use 'y_test_encoded' with the evaluate function\n",
    "test_loss, test_accuracy = model.evaluate(x_test_transformed, y_test_encoded)\n",
    "print(f'Test Loss: {test_loss}, Test Accuracy: {test_accuracy}')\n"
   ]
  }
 ],
 "metadata": {
  "kaggle": {
   "accelerator": "none",
   "dataSources": [
    {
     "datasetId": 2088925,
     "sourceId": 3469842,
     "sourceType": "datasetVersion"
    }
   ],
   "dockerImageVersionId": 30761,
   "isGpuEnabled": false,
   "isInternetEnabled": true,
   "language": "python",
   "sourceType": "notebook"
  },
  "kernelspec": {
   "display_name": "Python 3",
   "language": "python",
   "name": "python3"
  },
  "language_info": {
   "codemirror_mode": {
    "name": "ipython",
    "version": 3
   },
   "file_extension": ".py",
   "mimetype": "text/x-python",
   "name": "python",
   "nbconvert_exporter": "python",
   "pygments_lexer": "ipython3",
   "version": "3.10.14"
  },
  "papermill": {
   "default_parameters": {},
   "duration": 24.466149,
   "end_time": "2024-11-05T22:41:05.475245",
   "environment_variables": {},
   "exception": null,
   "input_path": "__notebook__.ipynb",
   "output_path": "__notebook__.ipynb",
   "parameters": {},
   "start_time": "2024-11-05T22:40:41.009096",
   "version": "2.6.0"
  }
 },
 "nbformat": 4,
 "nbformat_minor": 5
}
